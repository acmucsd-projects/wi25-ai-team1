{
  "nbformat": 4,
  "nbformat_minor": 0,
  "metadata": {
    "colab": {
      "provenance": []
    },
    "kernelspec": {
      "name": "python3",
      "display_name": "Python 3"
    },
    "language_info": {
      "name": "python"
    }
  },
  "cells": [
    {
      "cell_type": "code",
      "execution_count": 32,
      "metadata": {
        "colab": {
          "base_uri": "https://localhost:8080/"
        },
        "id": "kijdhaH3MBzU",
        "outputId": "0998d775-69d8-4561-c205-bf9035ba75f4"
      },
      "outputs": [
        {
          "output_type": "stream",
          "name": "stdout",
          "text": [
            "98\n"
          ]
        }
      ],
      "source": [
        "import requests\n",
        "dates = []\n",
        "year = 2024\n",
        "for month in range(1, 5):\n",
        "    gameDates = f\"https://data.ncaa.com/casablanca/schedule/volleyball-men/d1/{year}/0{month}/schedule-all-conf.json\"\n",
        "    response = requests.get(gameDates)\n",
        "    dates.extend([x for x in response.json()['gameDates'] if x['games'] > 0])\n",
        "print(len(dates))"
      ]
    },
    {
      "cell_type": "code",
      "source": [
        "from bs4 import BeautifulSoup\n",
        "import pandas as pd"
      ],
      "metadata": {
        "id": "g6Z0kYnIPH1j"
      },
      "execution_count": 33,
      "outputs": []
    },
    {
      "cell_type": "code",
      "source": [
        "from tqdm import tqdm\n",
        "allDataframes = []\n",
        "for date in tqdm(dates):\n",
        "    cdate = date['contest_date'].split(\"-\")\n",
        "    month, day, year = cdate\n",
        "    response = requests.get(f\"https://www.ncaa.com/scoreboard/volleyball-men/d1/{year}/{month}/{day}\")\n",
        "    soup = BeautifulSoup(response.text, 'html.parser')\n",
        "\n",
        "    rows = []\n",
        "    for game in soup.find_all('ul', class_='gamePod-game-teams'):\n",
        "        teams = game.find_all('li')\n",
        "        if len(teams) == 2:\n",
        "            team_1_name = teams[0].find('span', class_='gamePod-game-team-name').text.strip()\n",
        "            team_1_score = teams[0].find('span', class_='gamePod-game-team-score').text.strip()\n",
        "            team_2_name = teams[1].find('span', class_='gamePod-game-team-name').text.strip()\n",
        "            team_2_score = teams[1].find('span', class_='gamePod-game-team-score').text.strip()\n",
        "\n",
        "            rows.append([team_1_name, team_1_score, team_2_name, team_2_score])\n",
        "\n",
        "    df = pd.DataFrame(rows, columns=['Team 1', 'Team 1 Score', 'Team 2', 'Team 2 Score'])\n",
        "\n",
        "    allDataframes.append(df)\n"
      ],
      "metadata": {
        "colab": {
          "base_uri": "https://localhost:8080/"
        },
        "id": "7uVCu6wGMCTR",
        "outputId": "6d0fd4e2-6551-43c9-e654-23a3ed8b82f8"
      },
      "execution_count": 34,
      "outputs": [
        {
          "output_type": "stream",
          "name": "stderr",
          "text": [
            "100%|██████████| 98/98 [01:36<00:00,  1.02it/s]\n"
          ]
        }
      ]
    },
    {
      "cell_type": "code",
      "source": [
        "pd.concat(allDataframes, ignore_index=True).to_csv(\"2025MensNcaaGames.csv\")"
      ],
      "metadata": {
        "id": "Wo3APptjQYvr"
      },
      "execution_count": 36,
      "outputs": []
    },
    {
      "cell_type": "code",
      "source": [],
      "metadata": {
        "id": "aS6Gn2SnOMqy"
      },
      "execution_count": null,
      "outputs": []
    }
  ]
}