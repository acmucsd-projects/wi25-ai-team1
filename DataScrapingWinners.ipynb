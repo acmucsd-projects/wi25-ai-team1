{
  "cells": [
    {
      "cell_type": "code",
      "execution_count": 1,
      "metadata": {
        "colab": {
          "base_uri": "https://localhost:8080/"
        },
        "id": "kijdhaH3MBzU",
        "outputId": "0998d775-69d8-4561-c205-bf9035ba75f4"
      },
      "outputs": [
        {
          "name": "stdout",
          "output_type": "stream",
          "text": [
            "97\n"
          ]
        }
      ],
      "source": [
        "import requests\n",
        "dates = []\n",
        "year = 2024\n",
        "for month in range(1, 5):\n",
        "    gameDates = f\"https://data.ncaa.com/casablanca/schedule/volleyball-men/d1/{year}/0{month}/schedule-all-conf.json\"\n",
        "    response = requests.get(gameDates)\n",
        "    dates.extend([x for x in response.json()['gameDates'] if x['games'] > 0])\n",
        "print(len(dates))"
      ]
    },
    {
      "cell_type": "code",
      "execution_count": 2,
      "metadata": {
        "id": "g6Z0kYnIPH1j"
      },
      "outputs": [],
      "source": [
        "from bs4 import BeautifulSoup\n",
        "import pandas as pd"
      ]
    },
    {
      "cell_type": "code",
      "execution_count": 3,
      "metadata": {
        "colab": {
          "base_uri": "https://localhost:8080/"
        },
        "id": "7uVCu6wGMCTR",
        "outputId": "6d0fd4e2-6551-43c9-e654-23a3ed8b82f8"
      },
      "outputs": [
        {
          "name": "stderr",
          "output_type": "stream",
          "text": [
            "100%|██████████| 97/97 [00:35<00:00,  2.75it/s]\n"
          ]
        }
      ],
      "source": [
        "from tqdm import tqdm\n",
        "allDataframes = []\n",
        "for date in tqdm(dates):\n",
        "    cdate = date['contest_date'].split(\"-\")\n",
        "    month, day, year = cdate\n",
        "    response = requests.get(f\"https://www.ncaa.com/scoreboard/volleyball-men/d1/{year}/{month}/{day}\")\n",
        "    soup = BeautifulSoup(response.text, 'html.parser')\n",
        "\n",
        "    rows = []\n",
        "    for game in soup.find_all('ul', class_='gamePod-game-teams'):\n",
        "        teams = game.find_all('li')\n",
        "        if len(teams) == 2:\n",
        "            team_1_name = teams[0].find('span', class_='gamePod-game-team-name').text.strip()\n",
        "            team_1_score = teams[0].find('span', class_='gamePod-game-team-score').text.strip()\n",
        "            team_2_name = teams[1].find('span', class_='gamePod-game-team-name').text.strip()\n",
        "            team_2_score = teams[1].find('span', class_='gamePod-game-team-score').text.strip()\n",
        "\n",
        "            rows.append([team_1_name, team_1_score, team_2_name, team_2_score])\n",
        "\n",
        "    df = pd.DataFrame(rows, columns=['Team 1', 'Team 1 Score', 'Team 2', 'Team 2 Score'])\n",
        "\n",
        "    allDataframes.append(df)\n"
      ]
    },
    {
      "cell_type": "code",
      "execution_count": 4,
      "metadata": {
        "id": "Wo3APptjQYvr"
      },
      "outputs": [],
      "source": [
        "pd.concat(allDataframes, ignore_index=True).to_csv(\"2025MensNcaaGames.csv\")"
      ]
    },
    {
      "cell_type": "code",
      "execution_count": null,
      "metadata": {
        "id": "aS6Gn2SnOMqy"
      },
      "outputs": [],
      "source": []
    }
  ],
  "metadata": {
    "colab": {
      "provenance": []
    },
    "kernelspec": {
      "display_name": "Python 3",
      "name": "python3"
    },
    "language_info": {
      "codemirror_mode": {
        "name": "ipython",
        "version": 3
      },
      "file_extension": ".py",
      "mimetype": "text/x-python",
      "name": "python",
      "nbconvert_exporter": "python",
      "pygments_lexer": "ipython3",
      "version": "3.10.7"
    }
  },
  "nbformat": 4,
  "nbformat_minor": 0
}
