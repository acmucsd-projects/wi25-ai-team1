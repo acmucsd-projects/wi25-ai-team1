{
 "cells": [
  {
   "cell_type": "code",
   "execution_count": 3,
   "id": "4bf66ac7",
   "metadata": {},
   "outputs": [],
   "source": [
    "import pandas as pd\n",
    "import xgboost as xgb\n",
    "from sklearn.model_selection import train_test_split\n",
    "from sklearn.metrics import r2_score, mean_absolute_error\n",
    "from sklearn.metrics import accuracy_score\n",
    "import matplotlib.pyplot as plt\n",
    "import seaborn as sns\n",
    "import os\n",
    "import re\n"
   ]
  },
  {
   "cell_type": "code",
   "execution_count": 4,
   "id": "cb34d52a",
   "metadata": {},
   "outputs": [
    {
     "name": "stdout",
     "output_type": "stream",
     "text": [
      "2024 shape: (55, 53)\n",
      "2025 shape: (64, 53)\n"
     ]
    }
   ],
   "source": [
    "csv_dir = \"./allStatCSVS\"\n",
    "team_files = [f for f in os.listdir(csv_dir) if \"_Team_\" in f and f.endswith(\".csv\")]\n",
    "\n",
    "frames_2024, frames_2025 = [], []\n",
    "\n",
    "def tidy_frame(path):\n",
    "    df   = pd.read_csv(path)\n",
    "    year = int(re.search(r\"(19|20)\\d{2}\", path).group())          # 2024 or 2025\n",
    "    stat = os.path.basename(path).split(\"_Team_\")[0]              # e.g. \"Aces_Per_Set\"\n",
    "    stat = stat.replace(\"_Per_Set\", \"PerSet\").replace(\"_\", \"\")    # cosmetic\n",
    "\n",
    "    # rename every column *except* \"Team\" so it's globally unique\n",
    "    df = df.rename(columns={c: f\"{stat}_{c}\" for c in df.columns if c != \"Team\"})\n",
    "    df[\"Year\"] = year\n",
    "    return df[[\"Team\", \"Year\", *[c for c in df.columns if c != \"Team\" and c != \"Year\"]]]\n",
    "\n",
    "for f in team_files:\n",
    "    tidy = tidy_frame(os.path.join(csv_dir, f))\n",
    "    (frames_2024 if tidy[\"Year\"].iloc[0] == 2024 else frames_2025).append(tidy)\n",
    "\n",
    "# -- outer‑merge everything per year -------------------------------------------\n",
    "from functools import reduce\n",
    "master2024 = reduce(lambda l,r: pd.merge(l,r,on=[\"Team\",\"Year\"], how=\"outer\"), frames_2024)\n",
    "master2025 = reduce(lambda l,r: pd.merge(l,r,on=[\"Team\",\"Year\"], how=\"outer\"), frames_2025)\n",
    "\n",
    "print(\"2024 shape:\", master2024.shape)\n",
    "print(\"2025 shape:\", master2025.shape)\n"
   ]
  },
  {
   "cell_type": "code",
   "execution_count": 5,
   "id": "0e0f60c7",
   "metadata": {},
   "outputs": [
    {
     "data": {
      "text/plain": [
       "Index(['Team', 'Year', 'BlocksPerSet_Rank', 'BlocksPerSet_S',\n",
       "       'BlocksPerSet_W-L', 'BlocksPerSet_Block Solos',\n",
       "       'BlocksPerSet_Block Assists', 'BlocksPerSet_TB', 'BlocksPerSet_Per Set',\n",
       "       'DigsPerSet_Rank', 'DigsPerSet_S', 'DigsPerSet_W-L', 'DigsPerSet_Digs',\n",
       "       'DigsPerSet_Per Set', 'TeamAttacksPerSet_Rank', 'TeamAttacksPerSet_S',\n",
       "       'TeamAttacksPerSet_W-L', 'TeamAttacksPerSet_Kills',\n",
       "       'TeamAttacksPerSet_Errors', 'TeamAttacksPerSet_Total Attacks',\n",
       "       'TeamAttacksPerSet_Per Set', 'OpponentHittingPercentage_Rank',\n",
       "       'OpponentHittingPercentage_S', 'OpponentHittingPercentage_W-L',\n",
       "       'OpponentHittingPercentage_Opp Kills',\n",
       "       'OpponentHittingPercentage_Opp Errors',\n",
       "       'OpponentHittingPercentage_Opp Attacks',\n",
       "       'OpponentHittingPercentage_Opp Pct', 'AssistsPerSet_Rank',\n",
       "       'AssistsPerSet_S', 'AssistsPerSet_W-L', 'AssistsPerSet_Assists',\n",
       "       'AssistsPerSet_Per Set', 'AcesPerSet_Rank', 'AcesPerSet_S',\n",
       "       'AcesPerSet_W-L', 'AcesPerSet_Aces', 'AcesPerSet_Per Set',\n",
       "       'MatchW-LPctg._Rank', 'MatchW-LPctg._W', 'MatchW-LPctg._L',\n",
       "       'MatchW-LPctg._Pct.', 'KillsPerSet_Rank', 'KillsPerSet_S',\n",
       "       'KillsPerSet_W-L', 'KillsPerSet_Kills', 'KillsPerSet_Per Set',\n",
       "       'HittingPercentage_Rank', 'HittingPercentage_Kills',\n",
       "       'HittingPercentage_W-L', 'HittingPercentage_Errors',\n",
       "       'HittingPercentage_Total Attacks', 'HittingPercentage_Pct.'],\n",
       "      dtype='object')"
      ]
     },
     "execution_count": 5,
     "metadata": {},
     "output_type": "execute_result"
    }
   ],
   "source": [
    "#drop na rows\n",
    "master2024 = master2024.dropna(subset=[\"MatchW-LPctg._Pct.\"])\n",
    "master2025 = master2025.dropna(subset=[\"MatchW-LPctg._Pct.\"])\n",
    "\n",
    "master2024.columns"
   ]
  },
  {
   "cell_type": "code",
   "execution_count": 6,
   "id": "3879de19",
   "metadata": {},
   "outputs": [
    {
     "name": "stdout",
     "output_type": "stream",
     "text": [
      "MAE: 0.08588727846800111\n",
      "R² : 0.5708127233819824\n",
      "                                   Team  Year  PredictedPct  ActualPct\n",
      "1                            BYU (MPSF)  2025      0.550642      0.708\n",
      "2                       Ball St. (MIVA)  2025      0.657572      0.607\n",
      "3                Barry (DI Independent)  2025      0.312479      0.435\n",
      "4         Barton (Conference Carolinas)  2025      0.536945      0.577\n",
      "5  Belmont Abbey (Conference Carolinas)  2025      0.597352      0.636\n"
     ]
    }
   ],
   "source": [
    "label = \"MatchW-LPctg._Pct.\"\n",
    "\n",
    "num_cols_24 = master2024.select_dtypes(\"number\").columns\n",
    "features = [c for c in num_cols_24 if c != label and c != \"MatchW-LPctg._Rank\" and c != \"MatchW-LPctg._L\" and c != \"MatchW-LPctg._W\"]\n",
    "\n",
    "X_train = master2024[features]\n",
    "y_train = master2024[label]\n",
    "\n",
    "num_cols_25 = master2025.select_dtypes(\"number\").columns\n",
    "X_test = master2025[features]\n",
    "y_test = master2025[label]\n",
    "\n",
    "model = xgb.XGBRegressor(\n",
    "    objective=\"reg:squarederror\",\n",
    "    n_estimators=400,\n",
    "    max_depth=4,\n",
    "    learning_rate=0.05,\n",
    "    subsample=0.8,\n",
    "    colsample_bytree=0.8,\n",
    "    random_state=42,\n",
    ")\n",
    "\n",
    "model.fit(X_train, y_train)\n",
    "\n",
    "preds = model.predict(X_test)\n",
    "print(\"MAE:\", mean_absolute_error(y_test, preds))\n",
    "print(\"R² :\", r2_score(y_test, preds))\n",
    "\n",
    "results = master2025[[\"Team\", \"Year\"]].copy()\n",
    "results[\"PredictedPct\"] = preds\n",
    "results[\"ActualPct\"] = y_test.values\n",
    "print(results.head())"
   ]
  },
  {
   "cell_type": "code",
   "execution_count": 7,
   "id": "d20a392d",
   "metadata": {},
   "outputs": [
    {
     "name": "stdout",
     "output_type": "stream",
     "text": [
      "Fitting 10 folds for each of 108 candidates, totalling 1080 fits\n",
      "Best params: {'colsample_bytree': 0.8, 'learning_rate': 0.1, 'max_depth': 3, 'n_estimators': 200, 'subsample': 0.8}\n",
      "CV MAE: 0.06808185369014741\n",
      "\n",
      "2025 MAE: 0.08538107988413644\n",
      "2025 R² : 0.5885498424579807\n",
      "\n",
      "Head of prediction table:\n",
      "                                    Team  Year  PredictedPct  ActualPct\n",
      "1                            BYU (MPSF)  2025      0.539217      0.708\n",
      "2                       Ball St. (MIVA)  2025      0.701571      0.607\n",
      "3                Barry (DI Independent)  2025      0.325809      0.435\n",
      "4         Barton (Conference Carolinas)  2025      0.521236      0.577\n",
      "5  Belmont Abbey (Conference Carolinas)  2025      0.628015      0.636\n"
     ]
    },
    {
     "data": {
      "text/plain": [
       "<Figure size 800x1000 with 0 Axes>"
      ]
     },
     "metadata": {},
     "output_type": "display_data"
    },
    {
     "data": {
      "image/png": "[encoded data removed]",
      "text/plain": [
       "<Figure size 640x480 with 1 Axes>"
      ]
     },
     "metadata": {},
     "output_type": "display_data"
    }
   ],
   "source": [
    "from sklearn.model_selection import GridSearchCV, KFold\n",
    "import matplotlib.pyplot as plt\n",
    "\n",
    "\n",
    "label = \"MatchW-LPctg._Pct.\"\n",
    "features = [\n",
    "    c for c in master2024.select_dtypes(\"number\").columns\n",
    "    if c != label and c != \"MatchW-LPctg._Rank\" and c != \"MatchW-LPctg._L\" and c != \"MatchW-LPctg._W\"\n",
    "]\n",
    "\n",
    "X_train = master2024[features]\n",
    "y_train = master2024[label]\n",
    "\n",
    "X_test  = master2025[features]\n",
    "y_test  = master2025[label]\n",
    "\n",
    "\n",
    "param_grid = {\n",
    "    \"n_estimators\": [200, 400, 600],\n",
    "    \"max_depth\":    [3, 4, 5],\n",
    "    \"learning_rate\":[0.05, 0.1, 0.2],\n",
    "    \"subsample\":    [0.8, 1.0],\n",
    "    \"colsample_bytree\": [0.8, 1.0],\n",
    "}\n",
    "\n",
    "model = xgb.XGBRegressor(\n",
    "    objective=\"reg:squarederror\",\n",
    "    random_state=42,\n",
    ")\n",
    "\n",
    "cv = KFold(n_splits=10, shuffle=True, random_state=42)\n",
    "\n",
    "grid = GridSearchCV(\n",
    "    estimator=model,\n",
    "    param_grid=param_grid,\n",
    "    cv=cv,\n",
    "    scoring=\"neg_mean_absolute_error\",\n",
    "    n_jobs=-1,\n",
    "    verbose=1,\n",
    ")\n",
    "\n",
    "grid.fit(X_train, y_train)\n",
    "\n",
    "print(\"Best params:\", grid.best_params_)\n",
    "print(\"CV MAE:\",    -grid.best_score_)\n",
    "\n",
    "best_model = grid.best_estimator_\n",
    "\n",
    "\n",
    "preds = best_model.predict(X_test)\n",
    "print(\"\\n2025 MAE:\", mean_absolute_error(y_test, preds))\n",
    "print(\"2025 R² :\",  r2_score(y_test, preds))\n",
    "\n",
    "results = master2025[[\"Team\", \"Year\"]].copy()\n",
    "results[\"PredictedPct\"] = preds\n",
    "results[\"ActualPct\"]    = y_test.values\n",
    "print(\"\\nHead of prediction table:\\n\", results.head())\n",
    "\n",
    "\n",
    "plt.figure(figsize=(8, 10))\n",
    "xgb.plot_importance(best_model, max_num_features=20, height=0.6)\n",
    "plt.title(\"Top‑20 Feature Importances (gain)\")\n",
    "plt.tight_layout()\n",
    "plt.show()\n"
   ]
  },
  {
   "cell_type": "code",
   "execution_count": 8,
   "id": "c316fdaf",
   "metadata": {},
   "outputs": [
    {
     "name": "stdout",
     "output_type": "stream",
     "text": [
      "Train matches: (579, 103)\n",
      "Test  matches: (526, 103)\n"
     ]
    }
   ],
   "source": [
    "# normalize\n",
    "def normalize(name):\n",
    "    if not isinstance(name, str):\n",
    "        return \"\"\n",
    "    base = name.split(\"(\")[0]   # drop conference suffix\n",
    "    return (\n",
    "        base\n",
    "        .strip()\n",
    "        .lower()\n",
    "        .replace(\".\", \"\")\n",
    "        .replace(\",\", \"\")\n",
    "        .replace(\"  \", \" \")\n",
    "    )\n",
    "\n",
    "# re index stats tables by normalized team name\n",
    "master2024[\"Team_norm\"] = master2024[\"Team\"].map(normalize)\n",
    "master2025[\"Team_norm\"] = master2025[\"Team\"].map(normalize)\n",
    "master2024 = master2024.set_index(\"Team_norm\", drop=False)\n",
    "master2025 = master2025.set_index(\"Team_norm\", drop=False)\n",
    "\n",
    "# clean matches, build features\n",
    "def preprocess_matches(path, team_stats):\n",
    "    df = pd.read_csv(path)\n",
    "    # convert scores → numeric, drop failures\n",
    "    df[\"Team 1 Score\"] = pd.to_numeric(df[\"Team 1 Score\"], errors=\"coerce\")\n",
    "    df[\"Team 2 Score\"] = pd.to_numeric(df[\"Team 2 Score\"], errors=\"coerce\")\n",
    "    df = df.dropna(subset=[\"Team 1 Score\", \"Team 2 Score\"])\n",
    "    df[\"Team 1 Score\"] = df[\"Team 1 Score\"].astype(int)\n",
    "    df[\"Team 2 Score\"] = df[\"Team 2 Score\"].astype(int)\n",
    "    # label: 1 if Team 1 wins\n",
    "    df[\"Label\"] = (df[\"Team 1 Score\"] > df[\"Team 2 Score\"]).astype(int)\n",
    "    # normalize names\n",
    "    df[\"T1_norm\"] = df[\"Team 1\"].map(normalize)\n",
    "    df[\"T2_norm\"] = df[\"Team 2\"].map(normalize)\n",
    "    # filter to only rows both in stats\n",
    "    mask = df[\"T1_norm\"].isin(team_stats.index) & df[\"T2_norm\"].isin(team_stats.index)\n",
    "    return df.loc[mask, [\"T1_norm\",\"T2_norm\",\"Label\"]]\n",
    "\n",
    "def build_match_features(matches, team_stats):\n",
    "    # only numeric cols except Year\n",
    "    numeric_cols = [\n",
    "        c for c in team_stats.select_dtypes(include=\"number\").columns\n",
    "        if c != \"Year\"\n",
    "    ]\n",
    "    rows = []\n",
    "    for _, r in matches.iterrows():\n",
    "        a = team_stats.loc[r[\"T1_norm\"]]\n",
    "        b = team_stats.loc[r[\"T2_norm\"]]\n",
    "        feat = {}\n",
    "        for c in numeric_cols:\n",
    "            feat[f\"A_{c}\"]     = a[c]\n",
    "            feat[f\"B_{c}\"]     = b[c]\n",
    "            feat[f\"Delta_{c}\"] = a[c] - b[c]\n",
    "        feat[\"Label\"] = r[\"Label\"]\n",
    "        rows.append(feat)\n",
    "    return pd.DataFrame(rows)\n",
    "\n",
    "# build test and train tables\n",
    "matches2024 = preprocess_matches(\"2024MensNcaaGames.csv\", master2024)\n",
    "train_data   = build_match_features(matches2024, master2024)\n",
    "\n",
    "matches2025 = preprocess_matches(\"2025MensNcaaGames.csv\", master2025)\n",
    "test_data    = build_match_features(matches2025, master2025)\n",
    "\n",
    "print(\"Train matches:\", train_data.shape)   # e.g. ( hundreds, features+1 )\n",
    "print(\"Test  matches:\", test_data.shape)    # likewise"
   ]
  },
  {
   "cell_type": "code",
   "execution_count": 9,
   "id": "625ffbd7",
   "metadata": {},
   "outputs": [
    {
     "name": "stderr",
     "output_type": "stream",
     "text": [
      "/Users/rain/Documents/GitHub/wi25-ai-team1/.venv/lib/python3.13/site-packages/xgboost/training.py:183: UserWarning: [15:19:12] WARNING: /Users/runner/work/xgboost/xgboost/src/learner.cc:738: \n",
      "Parameters: { \"use_label_encoder\" } are not used.\n",
      "\n",
      "  bst.update(dtrain, iteration=i, fobj=obj)\n"
     ]
    },
    {
     "name": "stdout",
     "output_type": "stream",
     "text": [
      "Validation Accuracy: 0.7931034482758621\n"
     ]
    }
   ],
   "source": [
    "# ── 2) TRAIN ───────────────────────────────────────────────────────────────────\n",
    "\n",
    "from xgboost import XGBClassifier\n",
    "from sklearn.model_selection import train_test_split\n",
    "from sklearn.metrics import accuracy_score\n",
    "\n",
    "# split val set\n",
    "X = train_data.drop(columns=[\"Label\"])\n",
    "y = train_data[\"Label\"]\n",
    "X_train, X_val, y_train, y_val = train_test_split(\n",
    "    X, y, test_size=0.2, stratify=y, random_state=42\n",
    ")\n",
    "\n",
    "# fit classifier\n",
    "clf = XGBClassifier(\n",
    "    use_label_encoder=False,\n",
    "    eval_metric=\"logloss\",\n",
    "    random_state=42\n",
    ")\n",
    "clf.fit(X_train, y_train)\n",
    "\n",
    "# val accuracy\n",
    "val_pred = clf.predict(X_val)\n",
    "print(\"Validation Accuracy:\", accuracy_score(y_val, val_pred))"
   ]
  },
  {
   "cell_type": "code",
   "execution_count": 10,
   "id": "91539cc5",
   "metadata": {},
   "outputs": [
    {
     "name": "stdout",
     "output_type": "stream",
     "text": [
      "Test Accuracy (2025): 0.7433460076045627\n",
      "\n",
      "Classification Report:\n",
      "               precision    recall  f1-score   support\n",
      "\n",
      "           0       0.77      0.83      0.80       330\n",
      "           1       0.68      0.59      0.63       196\n",
      "\n",
      "    accuracy                           0.74       526\n",
      "   macro avg       0.73      0.71      0.72       526\n",
      "weighted avg       0.74      0.74      0.74       526\n",
      "\n"
     ]
    }
   ],
   "source": [
    "# test\n",
    "\n",
    "from sklearn.metrics import accuracy_score, classification_report\n",
    "\n",
    "# align columns\n",
    "feature_cols = [c for c in train_data.columns if c != \"Label\"]\n",
    "test_data = test_data.reindex(columns=feature_cols + [\"Label\"], fill_value=0)\n",
    "\n",
    "# split features/labels\n",
    "X_test = test_data[feature_cols]\n",
    "y_test = test_data[\"Label\"]\n",
    "\n",
    "# predict & evaluate\n",
    "test_pred = clf.predict(X_test)\n",
    "print(\"Test Accuracy (2025):\", accuracy_score(y_test, test_pred))\n",
    "print(\"\\nClassification Report:\\n\", classification_report(y_test, test_pred))"
   ]
  },
  {
   "cell_type": "code",
   "execution_count": 11,
   "id": "6fafafdd",
   "metadata": {},
   "outputs": [
    {
     "name": "stdout",
     "output_type": "stream",
     "text": [
      "Predicted winner: long beach st\n",
      "Win probability: 90.3%\n"
     ]
    }
   ],
   "source": [
    "# ── MATCH PREDICTION FUNCTION ──────────────────────────────────────────────────\n",
    "\n",
    "import numpy as np\n",
    "import difflib\n",
    "\n",
    "def predict_match(team1, team2, model, stats_df):\n",
    "    \"\"\"\n",
    "    Predicts which team will win and with what probability,\n",
    "    even if one of the teams has missing stats (falls back to the mean).\n",
    "    \"\"\"\n",
    "    # ——— name normalization\n",
    "    def normalize(name):\n",
    "        if not isinstance(name, str):\n",
    "            return \"\"\n",
    "        base = name.split(\"(\")[0]\n",
    "        return (\n",
    "            base.strip()\n",
    "                .lower()\n",
    "                .replace(\".\", \"\")\n",
    "                .replace(\",\", \"\")\n",
    "                .replace(\"  \", \" \")\n",
    "        )\n",
    "    n1, n2 = normalize(team1), normalize(team2)\n",
    "    \n",
    "    # ——— numeric columns \n",
    "    numeric_cols = [c for c in stats_df.select_dtypes(\"number\").columns if c != \"Year\"]\n",
    "    \n",
    "    # ——— fetch stats, or fallback to column mean\n",
    "    def get_stats(norm_name, orig_name):\n",
    "        if norm_name in stats_df.index:\n",
    "            return stats_df.loc[norm_name, numeric_cols]\n",
    "        # warn + suggest close matches\n",
    "        print(f\"No stats found for “{orig_name}”. Using average stats instead.\")\n",
    "        choices = stats_df.index.tolist()\n",
    "        sugg = difflib.get_close_matches(norm_name, choices, n=3, cutoff=0.5)\n",
    "        if sugg:\n",
    "            print(\"   Did you mean:\", \", \".join(sugg))\n",
    "        return stats_df[numeric_cols].mean()\n",
    "    \n",
    "    a = get_stats(n1, team1)\n",
    "    b = get_stats(n2, team2)\n",
    "    \n",
    "    # ——— build feature vector\n",
    "    row = []\n",
    "    for c in numeric_cols:\n",
    "        row.extend([ a[c], b[c], a[c] - b[c] ])\n",
    "    X_match = np.array(row).reshape(1, -1)\n",
    "    \n",
    "    # ——— predict probabilities\n",
    "    # proba[0,1] = P(label=1) = P(team1 wins)\n",
    "    proba = model.predict_proba(X_match)[0, 1]\n",
    "    \n",
    "    if proba >= 0.5:\n",
    "        return team1, proba\n",
    "    else:\n",
    "        return team2, 1 - proba\n",
    "\n",
    "# ── USAGE EXAMPLE ──────────────────────────────────────────────────────────────\n",
    "\n",
    "winner, win_prob = predict_match(\"long beach st\", \"UC San Diego\", clf, master2025)\n",
    "\n",
    "print(f\"Predicted winner: {winner}\")\n",
    "print(f\"Win probability: {win_prob*100:.1f}%\")"
   ]
  },
  {
   "cell_type": "code",
   "execution_count": 12,
   "id": "89f1cb0a",
   "metadata": {},
   "outputs": [],
   "source": [
    "clf.save_model('xgb_model.json')"
   ]
  }
 ],
 "metadata": {
  "kernelspec": {
   "display_name": ".venv",
   "language": "python",
   "name": "python3"
  },
  "language_info": {
   "codemirror_mode": {
    "name": "ipython",
    "version": 3
   },
   "file_extension": ".py",
   "mimetype": "text/x-python",
   "name": "python",
   "nbconvert_exporter": "python",
   "pygments_lexer": "ipython3",
   "version": "3.13.2"
  }
 },
 "nbformat": 4,
 "nbformat_minor": 5
}
