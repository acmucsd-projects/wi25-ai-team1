{
  "nbformat": 4,
  "nbformat_minor": 0,
  "metadata": {
    "colab": {
      "provenance": []
    },
    "kernelspec": {
      "name": "python3",
      "display_name": "Python 3"
    },
    "language_info": {
      "name": "python"
    }
  },
  "cells": [
    {
      "cell_type": "code",
      "source": [
        "import requests\n",
        "\n",
        "indStatEndpointDiv2024 = \"\"\"<div class=\"dropdown-menu show\" aria-labelledby=\"stat_type_I_N\" x-placement=\"top-start\" style=\"position: absolute; transform: translate3d(0px, -172px, 0px); top: 0px; left: 0px; will-change: transform;\">\n",
        "      <a href=\"javascript:changeStatType('I', 'N');\">Splash</a>\n",
        "      <div class=\"dropdown-divider\"></div>\n",
        "        <a update=\"national_ranking_div\" loading=\"$('#contentArea').mask('Loading...');\" complete=\"$('#contentArea').unmask();\" class=\"dropdown-item\" data-remote=\"false\" href=\"/rankings/national_ranking?academic_year=2024.0&amp;division=1.0&amp;ranking_period=82.0&amp;sport_code=MVB&amp;stat_seq=532.0\">Aces Per Set</a>\n",
        "        <a update=\"national_ranking_div\" loading=\"$('#contentArea').mask('Loading...');\" complete=\"$('#contentArea').unmask();\" class=\"dropdown-item\" data-remote=\"false\" href=\"/rankings/national_ranking?academic_year=2024.0&amp;division=1.0&amp;ranking_period=82.0&amp;sport_code=MVB&amp;stat_seq=522.0\">Assists Per Set</a>\n",
        "        <a update=\"national_ranking_div\" loading=\"$('#contentArea').mask('Loading...');\" complete=\"$('#contentArea').unmask();\" class=\"dropdown-item\" data-remote=\"false\" href=\"/rankings/national_ranking?academic_year=2024.0&amp;division=1.0&amp;ranking_period=82.0&amp;sport_code=MVB&amp;stat_seq=1124.0\">Attacks Per Set</a>\n",
        "        <a update=\"national_ranking_div\" loading=\"$('#contentArea').mask('Loading...');\" complete=\"$('#contentArea').unmask();\" class=\"dropdown-item\" data-remote=\"false\" href=\"/rankings/national_ranking?academic_year=2024.0&amp;division=1.0&amp;ranking_period=82.0&amp;sport_code=MVB&amp;stat_seq=523.0\">Blocks Per Set</a>\n",
        "        <a update=\"national_ranking_div\" loading=\"$('#contentArea').mask('Loading...');\" complete=\"$('#contentArea').unmask();\" class=\"dropdown-item\" data-remote=\"false\" href=\"/rankings/national_ranking?academic_year=2024.0&amp;division=1.0&amp;ranking_period=82.0&amp;sport_code=MVB&amp;stat_seq=524.0\">Digs Per Set</a>\n",
        "        <a update=\"national_ranking_div\" loading=\"$('#contentArea').mask('Loading...');\" complete=\"$('#contentArea').unmask();\" class=\"dropdown-item\" data-remote=\"false\" href=\"/rankings/national_ranking?academic_year=2024.0&amp;division=1.0&amp;ranking_period=82.0&amp;sport_code=MVB&amp;stat_seq=520.0\">Hitting Percentage</a>\n",
        "        <a update=\"national_ranking_div\" loading=\"$('#contentArea').mask('Loading...');\" complete=\"$('#contentArea').unmask();\" class=\"dropdown-item\" data-remote=\"false\" href=\"/rankings/national_ranking?academic_year=2024.0&amp;division=1.0&amp;ranking_period=82.0&amp;sport_code=MVB&amp;stat_seq=521.0\">Kills Per Set</a>\n",
        "        <a update=\"national_ranking_div\" loading=\"$('#contentArea').mask('Loading...');\" complete=\"$('#contentArea').unmask();\" class=\"dropdown-item\" data-remote=\"false\" href=\"/rankings/national_ranking?academic_year=2024.0&amp;division=1.0&amp;ranking_period=82.0&amp;sport_code=MVB&amp;stat_seq=686.0\">Points Per Set</a>\n",
        "        <a update=\"national_ranking_div\" loading=\"$('#contentArea').mask('Loading...');\" complete=\"$('#contentArea').unmask();\" class=\"dropdown-item\" data-remote=\"false\" href=\"/rankings/national_ranking?academic_year=2024.0&amp;division=1.0&amp;ranking_period=82.0&amp;sport_code=MVB&amp;stat_seq=929.0\">Triple Doubles</a>\n",
        "      </div>\"\"\"\n",
        "teamStatEndpointDiv2024 = \"\"\"<div class=\"dropdown-menu show\" aria-labelledby=\"stat_type_T_N\" x-placement=\"top-start\" style=\"position: absolute; transform: translate3d(0px, -172px, 0px); top: 0px; left: 0px; will-change: transform;\">\n",
        "      <a href=\"javascript:changeStatType('T', 'N');\">Splash</a>\n",
        "      <div class=\"dropdown-divider\"></div>\n",
        "        <a update=\"national_ranking_div\" loading=\"$('#contentArea').mask('Loading...');\" complete=\"$('#contentArea').unmask();\" class=\"dropdown-item\" data-remote=\"false\" href=\"/rankings/national_ranking?academic_year=2024.0&amp;division=1.0&amp;ranking_period=82.0&amp;sport_code=MVB&amp;stat_seq=528.0\">Aces Per Set</a>\n",
        "        <a update=\"national_ranking_div\" loading=\"$('#contentArea').mask('Loading...');\" complete=\"$('#contentArea').unmask();\" class=\"dropdown-item\" data-remote=\"false\" href=\"/rankings/national_ranking?academic_year=2024.0&amp;division=1.0&amp;ranking_period=82.0&amp;sport_code=MVB&amp;stat_seq=527.0\">Assists Per Set</a>\n",
        "        <a update=\"national_ranking_div\" loading=\"$('#contentArea').mask('Loading...');\" complete=\"$('#contentArea').unmask();\" class=\"dropdown-item\" data-remote=\"false\" href=\"/rankings/national_ranking?academic_year=2024.0&amp;division=1.0&amp;ranking_period=82.0&amp;sport_code=MVB&amp;stat_seq=529.0\">Blocks Per Set</a>\n",
        "        <a update=\"national_ranking_div\" loading=\"$('#contentArea').mask('Loading...');\" complete=\"$('#contentArea').unmask();\" class=\"dropdown-item\" data-remote=\"false\" href=\"/rankings/national_ranking?academic_year=2024.0&amp;division=1.0&amp;ranking_period=82.0&amp;sport_code=MVB&amp;stat_seq=533.0\">Digs Per Set</a>\n",
        "        <a update=\"national_ranking_div\" loading=\"$('#contentArea').mask('Loading...');\" complete=\"$('#contentArea').unmask();\" class=\"dropdown-item\" data-remote=\"false\" href=\"/rankings/national_ranking?academic_year=2024.0&amp;division=1.0&amp;ranking_period=82.0&amp;sport_code=MVB&amp;stat_seq=525.0\">Hitting Percentage</a>\n",
        "        <a update=\"national_ranking_div\" loading=\"$('#contentArea').mask('Loading...');\" complete=\"$('#contentArea').unmask();\" class=\"dropdown-item\" data-remote=\"false\" href=\"/rankings/national_ranking?academic_year=2024.0&amp;division=1.0&amp;ranking_period=82.0&amp;sport_code=MVB&amp;stat_seq=526.0\">Kills Per Set</a>\n",
        "        <a update=\"national_ranking_div\" loading=\"$('#contentArea').mask('Loading...');\" complete=\"$('#contentArea').unmask();\" class=\"dropdown-item\" data-remote=\"false\" href=\"/rankings/national_ranking?academic_year=2024.0&amp;division=1.0&amp;ranking_period=82.0&amp;sport_code=MVB&amp;stat_seq=530.0\">Match W-L Pctg.</a>\n",
        "        <a update=\"national_ranking_div\" loading=\"$('#contentArea').mask('Loading...');\" complete=\"$('#contentArea').unmask();\" class=\"dropdown-item\" data-remote=\"false\" href=\"/rankings/national_ranking?academic_year=2024.0&amp;division=1.0&amp;ranking_period=82.0&amp;sport_code=MVB&amp;stat_seq=1140.0\">Opponent Hitting Percentage</a>\n",
        "        <a update=\"national_ranking_div\" loading=\"$('#contentArea').mask('Loading...');\" complete=\"$('#contentArea').unmask();\" class=\"dropdown-item\" data-remote=\"false\" href=\"/rankings/national_ranking?academic_year=2024.0&amp;division=1.0&amp;ranking_period=82.0&amp;sport_code=MVB&amp;stat_seq=1125.0\">Team Attacks Per Set</a>\n",
        "      </div>\"\"\"\n",
        "indStatEndpointDiv2025 = \"\"\"<div class=\"dropdown-menu show\" aria-labelledby=\"stat_type_I_N\" x-placement=\"top-start\" style=\"position: absolute; transform: translate3d(0px, -172px, 0px); top: 0px; left: 0px; will-change: transform;\">\n",
        "      <a href=\"javascript:changeStatType('I', 'N');\">Splash</a>\n",
        "      <div class=\"dropdown-divider\"></div>\n",
        "        <a update=\"national_ranking_div\" loading=\"$('#contentArea').mask('Loading...');\" complete=\"$('#contentArea').unmask();\" class=\"dropdown-item\" data-remote=\"false\" href=\"/rankings/national_ranking?academic_year=2025.0&amp;division=1.0&amp;ranking_period=64.0&amp;sport_code=MVB&amp;stat_seq=532.0\">Aces Per Set</a>\n",
        "        <a update=\"national_ranking_div\" loading=\"$('#contentArea').mask('Loading...');\" complete=\"$('#contentArea').unmask();\" class=\"dropdown-item\" data-remote=\"false\" href=\"/rankings/national_ranking?academic_year=2025.0&amp;division=1.0&amp;ranking_period=64.0&amp;sport_code=MVB&amp;stat_seq=522.0\">Assists Per Set</a>\n",
        "        <a update=\"national_ranking_div\" loading=\"$('#contentArea').mask('Loading...');\" complete=\"$('#contentArea').unmask();\" class=\"dropdown-item\" data-remote=\"false\" href=\"/rankings/national_ranking?academic_year=2025.0&amp;division=1.0&amp;ranking_period=64.0&amp;sport_code=MVB&amp;stat_seq=1124.0\">Attacks Per Set</a>\n",
        "        <a update=\"national_ranking_div\" loading=\"$('#contentArea').mask('Loading...');\" complete=\"$('#contentArea').unmask();\" class=\"dropdown-item\" data-remote=\"false\" href=\"/rankings/national_ranking?academic_year=2025.0&amp;division=1.0&amp;ranking_period=64.0&amp;sport_code=MVB&amp;stat_seq=523.0\">Blocks Per Set</a>\n",
        "        <a update=\"national_ranking_div\" loading=\"$('#contentArea').mask('Loading...');\" complete=\"$('#contentArea').unmask();\" class=\"dropdown-item\" data-remote=\"false\" href=\"/rankings/national_ranking?academic_year=2025.0&amp;division=1.0&amp;ranking_period=64.0&amp;sport_code=MVB&amp;stat_seq=524.0\">Digs Per Set</a>\n",
        "        <a update=\"national_ranking_div\" loading=\"$('#contentArea').mask('Loading...');\" complete=\"$('#contentArea').unmask();\" class=\"dropdown-item\" data-remote=\"false\" href=\"/rankings/national_ranking?academic_year=2025.0&amp;division=1.0&amp;ranking_period=64.0&amp;sport_code=MVB&amp;stat_seq=520.0\">Hitting Percentage</a>\n",
        "        <a update=\"national_ranking_div\" loading=\"$('#contentArea').mask('Loading...');\" complete=\"$('#contentArea').unmask();\" class=\"dropdown-item\" data-remote=\"false\" href=\"/rankings/national_ranking?academic_year=2025.0&amp;division=1.0&amp;ranking_period=64.0&amp;sport_code=MVB&amp;stat_seq=521.0\">Kills Per Set</a>\n",
        "        <a update=\"national_ranking_div\" loading=\"$('#contentArea').mask('Loading...');\" complete=\"$('#contentArea').unmask();\" class=\"dropdown-item\" data-remote=\"false\" href=\"/rankings/national_ranking?academic_year=2025.0&amp;division=1.0&amp;ranking_period=64.0&amp;sport_code=MVB&amp;stat_seq=686.0\">Points Per Set</a>\n",
        "        <a update=\"national_ranking_div\" loading=\"$('#contentArea').mask('Loading...');\" complete=\"$('#contentArea').unmask();\" class=\"dropdown-item\" data-remote=\"false\" href=\"/rankings/national_ranking?academic_year=2025.0&amp;division=1.0&amp;ranking_period=64.0&amp;sport_code=MVB&amp;stat_seq=929.0\">Triple Doubles</a>\n",
        "      </div>\"\"\"\n",
        "teamStatEndpointDiv2025 = \"\"\"<div class=\"dropdown-menu show\" aria-labelledby=\"stat_type_T_N\" x-placement=\"top-start\" style=\"position: absolute; transform: translate3d(0px, -172px, 0px); top: 0px; left: 0px; will-change: transform;\">\n",
        "      <a href=\"javascript:changeStatType('T', 'N');\">Splash</a>\n",
        "      <div class=\"dropdown-divider\"></div>\n",
        "        <a update=\"national_ranking_div\" loading=\"$('#contentArea').mask('Loading...');\" complete=\"$('#contentArea').unmask();\" class=\"dropdown-item\" data-remote=\"false\" href=\"/rankings/national_ranking?academic_year=2025.0&amp;division=1.0&amp;ranking_period=64.0&amp;sport_code=MVB&amp;stat_seq=528.0\">Aces Per Set</a>\n",
        "        <a update=\"national_ranking_div\" loading=\"$('#contentArea').mask('Loading...');\" complete=\"$('#contentArea').unmask();\" class=\"dropdown-item\" data-remote=\"false\" href=\"/rankings/national_ranking?academic_year=2025.0&amp;division=1.0&amp;ranking_period=64.0&amp;sport_code=MVB&amp;stat_seq=527.0\">Assists Per Set</a>\n",
        "        <a update=\"national_ranking_div\" loading=\"$('#contentArea').mask('Loading...');\" complete=\"$('#contentArea').unmask();\" class=\"dropdown-item\" data-remote=\"false\" href=\"/rankings/national_ranking?academic_year=2025.0&amp;division=1.0&amp;ranking_period=64.0&amp;sport_code=MVB&amp;stat_seq=529.0\">Blocks Per Set</a>\n",
        "        <a update=\"national_ranking_div\" loading=\"$('#contentArea').mask('Loading...');\" complete=\"$('#contentArea').unmask();\" class=\"dropdown-item\" data-remote=\"false\" href=\"/rankings/national_ranking?academic_year=2025.0&amp;division=1.0&amp;ranking_period=64.0&amp;sport_code=MVB&amp;stat_seq=533.0\">Digs Per Set</a>\n",
        "        <a update=\"national_ranking_div\" loading=\"$('#contentArea').mask('Loading...');\" complete=\"$('#contentArea').unmask();\" class=\"dropdown-item\" data-remote=\"false\" href=\"/rankings/national_ranking?academic_year=2025.0&amp;division=1.0&amp;ranking_period=64.0&amp;sport_code=MVB&amp;stat_seq=525.0\">Hitting Percentage</a>\n",
        "        <a update=\"national_ranking_div\" loading=\"$('#contentArea').mask('Loading...');\" complete=\"$('#contentArea').unmask();\" class=\"dropdown-item\" data-remote=\"false\" href=\"/rankings/national_ranking?academic_year=2025.0&amp;division=1.0&amp;ranking_period=64.0&amp;sport_code=MVB&amp;stat_seq=526.0\">Kills Per Set</a>\n",
        "        <a update=\"national_ranking_div\" loading=\"$('#contentArea').mask('Loading...');\" complete=\"$('#contentArea').unmask();\" class=\"dropdown-item\" data-remote=\"false\" href=\"/rankings/national_ranking?academic_year=2025.0&amp;division=1.0&amp;ranking_period=64.0&amp;sport_code=MVB&amp;stat_seq=530.0\">Match W-L Pctg.</a>\n",
        "        <a update=\"national_ranking_div\" loading=\"$('#contentArea').mask('Loading...');\" complete=\"$('#contentArea').unmask();\" class=\"dropdown-item\" data-remote=\"false\" href=\"/rankings/national_ranking?academic_year=2025.0&amp;division=1.0&amp;ranking_period=64.0&amp;sport_code=MVB&amp;stat_seq=1140.0\">Opponent Hitting Percentage</a>\n",
        "        <a update=\"national_ranking_div\" loading=\"$('#contentArea').mask('Loading...');\" complete=\"$('#contentArea').unmask();\" class=\"dropdown-item\" data-remote=\"false\" href=\"/rankings/national_ranking?academic_year=2025.0&amp;division=1.0&amp;ranking_period=64.0&amp;sport_code=MVB&amp;stat_seq=1125.0\">Team Attacks Per Set</a>\n",
        "      </div>\"\"\"\n",
        "\n",
        "baseEndpoint = \"https://stats.ncaa.org\""
      ],
      "metadata": {
        "id": "gTyGqM35CElU"
      },
      "execution_count": 48,
      "outputs": []
    },
    {
      "cell_type": "code",
      "source": [
        "def getHrefs(html_string):\n",
        "    soup = BeautifulSoup(html_string, 'html.parser')\n",
        "\n",
        "    # Find all <a> tags and get their href attributes\n",
        "    hrefs = [a.get('href') for a in soup.find_all('a') if a.get('href') and a.get('href')[0] == \"/\"]\n",
        "    names = [a.text for a in soup.find_all('a') if a.get('href') and a.get('href')[0] == \"/\"]\n",
        "\n",
        "    return hrefs, names\n",
        "\n",
        "individualHrefs2024, individualStatNames2024 = getHrefs(indStatEndpointDiv2024)\n",
        "teamHrefs2024, teamStatNames2024 = getHrefs(teamStatEndpointDiv2024)\n",
        "individualHrefs2025, individualStatNames2025 = getHrefs(indStatEndpointDiv2025)\n",
        "teamHrefs2025, teamStatNames2025 = getHrefs(teamStatEndpointDiv2025)\n",
        "individualHrefs2025"
      ],
      "metadata": {
        "colab": {
          "base_uri": "https://localhost:8080/"
        },
        "id": "j6esTi7FD888",
        "outputId": "908a5c6f-6354-4ff0-b38e-e83da7d59d31"
      },
      "execution_count": 49,
      "outputs": [
        {
          "output_type": "execute_result",
          "data": {
            "text/plain": [
              "['/rankings/national_ranking?academic_year=2025.0&division=1.0&ranking_period=64.0&sport_code=MVB&stat_seq=532.0',\n",
              " '/rankings/national_ranking?academic_year=2025.0&division=1.0&ranking_period=64.0&sport_code=MVB&stat_seq=522.0',\n",
              " '/rankings/national_ranking?academic_year=2025.0&division=1.0&ranking_period=64.0&sport_code=MVB&stat_seq=1124.0',\n",
              " '/rankings/national_ranking?academic_year=2025.0&division=1.0&ranking_period=64.0&sport_code=MVB&stat_seq=523.0',\n",
              " '/rankings/national_ranking?academic_year=2025.0&division=1.0&ranking_period=64.0&sport_code=MVB&stat_seq=524.0',\n",
              " '/rankings/national_ranking?academic_year=2025.0&division=1.0&ranking_period=64.0&sport_code=MVB&stat_seq=520.0',\n",
              " '/rankings/national_ranking?academic_year=2025.0&division=1.0&ranking_period=64.0&sport_code=MVB&stat_seq=521.0',\n",
              " '/rankings/national_ranking?academic_year=2025.0&division=1.0&ranking_period=64.0&sport_code=MVB&stat_seq=686.0',\n",
              " '/rankings/national_ranking?academic_year=2025.0&division=1.0&ranking_period=64.0&sport_code=MVB&stat_seq=929.0']"
            ]
          },
          "metadata": {},
          "execution_count": 49
        }
      ]
    },
    {
      "cell_type": "code",
      "source": [
        "from bs4 import BeautifulSoup\n",
        "import pandas as pd\n",
        "\n",
        "def getTable(baseEndpoint, href):\n",
        "    headers = {\n",
        "        \"Host\": \"stats.ncaa.org\",\n",
        "        \"User-Agent\": \"Mozilla/5.0 (Windows NT 10.0; Win64; x64; rv:136.0) Gecko/20100101 Firefox/136.0\",\n",
        "        \"Accept\": \"text/html,application/xhtml+xml,application/xml;q=0.9,*/*;q=0.8\",\n",
        "        \"Accept-Language\": \"en-US,en;q=0.5\",\n",
        "        \"Accept-Encoding\": \"gzip, deflate, br, zstd\",\n",
        "        \"Referer\": \"https://stats.ncaa.org/rankings/national_ranking?academic_year=2024.0&division=1.0&ranking_period=82.0&sport_code=MVB&stat_seq=532.0\",\n",
        "        \"Connection\": \"keep-alive\",\n",
        "        \"Cookie\": \"FINDING_THIS_COOKIE_TO_BYPASS_THEIR_AUTHORIZATION_IS_AN_EXERCISE_LEFT_TO_THE_READER\",\n",
        "        \"Upgrade-Insecure-Requests\": \"1\",\n",
        "        \"Sec-Fetch-Dest\": \"document\",\n",
        "        \"Sec-Fetch-Mode\": \"navigate\",\n",
        "        \"Sec-Fetch-Site\": \"same-origin\",\n",
        "        \"Sec-Fetch-User\": \"?1\",\n",
        "        \"Priority\": \"u=0, i\"\n",
        "    }\n",
        "    response = requests.get(f\"{baseEndpoint}{href}\", headers=headers)\n",
        "    print(response.status_code)\n",
        "    # Assuming `html` contains the HTML content as a string\n",
        "    soup = BeautifulSoup(response.text, \"html.parser\")\n",
        "\n",
        "    # Find the table by ID\n",
        "    table = soup.find(\"table\", id=\"rankings_table\")\n",
        "\n",
        "    # Extract headers dynamically\n",
        "    headers = []\n",
        "    for th in table.find(\"thead\").find_all(\"th\"):\n",
        "        headers.append(th.get_text(strip=True))\n",
        "\n",
        "    # Extract rows\n",
        "    data = []\n",
        "    for row in table.find(\"tbody\").find_all(\"tr\"):\n",
        "        row_data = []\n",
        "        for td in row.find_all(\"td\"):\n",
        "            # Try to extract text from <a> tag if it exists, else just the text\n",
        "            a_tag = td.find(\"a\")\n",
        "            text = a_tag.get_text(strip=True) if a_tag else td.get_text(strip=True)\n",
        "            row_data.append(text)\n",
        "        data.append(row_data)\n",
        "\n",
        "    # Create the DataFrame\n",
        "    df = pd.DataFrame(data, columns=headers)\n",
        "\n",
        "    # Optional: display or return the dataframe\n",
        "    return df\n"
      ],
      "metadata": {
        "id": "ubzJkKohYKwW"
      },
      "execution_count": 50,
      "outputs": []
    },
    {
      "cell_type": "code",
      "source": [
        "import os\n",
        "import zipfile\n",
        "\n",
        "# Create the output directory if it doesn't exist\n",
        "output_dir = \"allStatCSVS\"\n",
        "os.makedirs(output_dir, exist_ok=True)\n",
        "\n",
        "# Save individual stats for 2024\n",
        "for href, statName in zip(individualHrefs2024, individualStatNames2024):\n",
        "    df = getTable(baseEndpoint, href)\n",
        "    filename = f\"{statName.replace(' ', '_')}_Individual_2024.csv\"\n",
        "    df.to_csv(os.path.join(output_dir, filename), index=False)\n",
        "\n",
        "# Save team stats for 2024\n",
        "for href, statName in zip(teamHrefs2024, teamStatNames2024):\n",
        "    df = getTable(baseEndpoint, href)\n",
        "    filename = f\"{statName.replace(' ', '_')}_Team_2024.csv\"\n",
        "    df.to_csv(os.path.join(output_dir, filename), index=False)\n",
        "\n",
        "# Save individual stats for 2025\n",
        "for href, statName in zip(individualHrefs2025, individualStatNames2025):\n",
        "    df = getTable(baseEndpoint, href)\n",
        "    filename = f\"{statName.replace(' ', '_')}_Individual_2025.csv\"\n",
        "    df.to_csv(os.path.join(output_dir, filename), index=False)\n",
        "\n",
        "# Save team stats for 2025\n",
        "for href, statName in zip(teamHrefs2025, teamStatNames2025):\n",
        "    df = getTable(baseEndpoint, href)\n",
        "    filename = f\"{statName.replace(' ', '_')}_Team_2025.csv\"\n",
        "    df.to_csv(os.path.join(output_dir, filename), index=False)\n",
        "\n",
        "# Zip the folder\n",
        "zip_filename = \"allStatCSVS.zip\"\n",
        "with zipfile.ZipFile(zip_filename, 'w', zipfile.ZIP_DEFLATED) as zipf:\n",
        "    for root, dirs, files in os.walk(output_dir):\n",
        "        for file in files:\n",
        "            file_path = os.path.join(root, file)\n",
        "            arcname = os.path.relpath(file_path, start=output_dir)\n",
        "            zipf.write(file_path, arcname=os.path.join(output_dir, arcname))\n"
      ],
      "metadata": {
        "colab": {
          "base_uri": "https://localhost:8080/"
        },
        "id": "ZZabR-TaZbzK",
        "outputId": "f607636e-346e-481e-845f-a994ceb866a8"
      },
      "execution_count": 51,
      "outputs": [
        {
          "output_type": "stream",
          "name": "stdout",
          "text": [
            "200\n",
            "200\n",
            "200\n",
            "200\n",
            "200\n",
            "200\n",
            "200\n",
            "200\n",
            "200\n",
            "200\n",
            "200\n",
            "200\n",
            "200\n",
            "200\n",
            "200\n",
            "200\n",
            "200\n",
            "200\n",
            "200\n",
            "200\n",
            "200\n",
            "200\n",
            "200\n",
            "200\n",
            "200\n",
            "200\n",
            "200\n",
            "200\n",
            "200\n",
            "200\n",
            "200\n",
            "200\n",
            "200\n",
            "200\n",
            "200\n",
            "200\n"
          ]
        }
      ]
    },
    {
      "cell_type": "code",
      "source": [],
      "metadata": {
        "id": "qxDIjnhgbZGi"
      },
      "execution_count": null,
      "outputs": []
    }
  ]
}